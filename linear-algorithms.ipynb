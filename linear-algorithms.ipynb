{
 "metadata": {
  "name": ""
 },
 "nbformat": 3,
 "nbformat_minor": 0,
 "worksheets": [
  {
   "cells": [
    {
     "cell_type": "heading",
     "level": 1,
     "metadata": {},
     "source": [
      "Comparing Numerical Solutions for Systems of Equations"
     ]
    },
    {
     "cell_type": "markdown",
     "metadata": {},
     "source": [
      "<p>In this notebook we'll look at three algorithms for solving systems of equations, and then compare their convergence rates and the Euclidean norms of their errors. We'll be rounding everything to four decimal places, and exiting each method when the solution is within four decimal places of accuracy.</p>"
     ]
    },
    {
     "cell_type": "code",
     "collapsed": false,
     "input": [
      "import numpy as np\n",
      "from sympy import * \n",
      "from IPython.display import Math\n",
      "\n",
      "ITERATION_LIMIT = 1000\n",
      "\n",
      "# initialize the matrix\n",
      "A = np.array([[7., 1., -1., 2.],\n",
      "              [1., 8., 0., -2.],\n",
      "              [-1., 0., 4., -1.],\n",
      "              [2., -2., -1., 6.]])\n",
      "# initialize the solution vector\n",
      "b = np.array([3., -5., 4., -3.])\n",
      "\n",
      "x_act = np.array([1,-1,1,-1])"
     ],
     "language": "python",
     "metadata": {},
     "outputs": [],
     "prompt_number": 1
    },
    {
     "cell_type": "code",
     "collapsed": false,
     "input": [
      "print \"System:\"\n",
      "for i in range(A.shape[0]):\n",
      "    row = [\"{}*x{}\".format(A[i,j] , j + 1) for j in range(A.shape[1])]\n",
      "    print \" + \".join(row), '=', b[i]"
     ],
     "language": "python",
     "metadata": {},
     "outputs": [
      {
       "output_type": "stream",
       "stream": "stdout",
       "text": [
        "System:\n",
        "7.0*x1 + 1.0*x2 + -1.0*x3 + 2.0*x4 = 3.0\n",
        "1.0*x1 + 8.0*x2 + 0.0*x3 + -2.0*x4 = -5.0\n",
        "-1.0*x1 + 0.0*x2 + 4.0*x3 + -1.0*x4 = 4.0\n",
        "2.0*x1 + -2.0*x2 + -1.0*x3 + 6.0*x4 = -3.0\n"
       ]
      }
     ],
     "prompt_number": 2
    },
    {
     "cell_type": "markdown",
     "metadata": {},
     "source": [
      "<p>This is the system that we'll be solving. The exact solution for this system is: $x = (1,-1,1,-1)^T$</p>"
     ]
    },
    {
     "cell_type": "heading",
     "level": 3,
     "metadata": {},
     "source": [
      "Jacobi Method"
     ]
    },
    {
     "cell_type": "markdown",
     "metadata": {},
     "source": [
      "<p>The first method that we'll use is the Jacobi method, which is defined by this sum:</p>\n",
      "<p>$$x^{(k+1)}_i  = \\frac{1}{a_{ii}} \\left(b_i -\\sum_{j\\ne i}a_{ij}x^{(k)}_j\\right),\\quad i=1,2,\\ldots,n.$$ </p>\n"
     ]
    },
    {
     "cell_type": "code",
     "collapsed": false,
     "input": [
      "x = np.zeros_like(b)\n",
      "\n",
      "#Jacobi Method\n",
      "for jacobi_count in range(ITERATION_LIMIT):\n",
      "    print \"Current solution:\", x\n",
      "    x_new = np.zeros_like(x)\n",
      " \n",
      "    for i in range(A.shape[0]):\n",
      "        rs1 = np.dot(A[i, :i], x[:i]) #Sum the dot product of everything before xn\n",
      "        rs2 = np.dot(A[i, i+1:], x[i + 1:]) #sum the dot product of everything after xn\n",
      "        x_new[i] = round((b[i] - rs1 - rs2) / A[i,i], 4)\n",
      "\n",
      "    if np.allclose(x, x_new, rtol=1e-4): #Exit when close to 4 decimal places of accuracy\n",
      "        break\n",
      "    x = x_new\n",
      "    \n",
      "jacobi_error = x_act - x\n",
      "\n",
      "print \"Solution: \", x\n",
      "print \"Iterations: \", jacobi_count\n",
      "print \"Error: \", jacobi_error"
     ],
     "language": "python",
     "metadata": {},
     "outputs": [
      {
       "output_type": "stream",
       "stream": "stdout",
       "text": [
        "Current solution: [ 0.  0.  0.  0.]\n",
        "Current solution: [ 0.4286 -0.625   1.     -0.5   ]\n",
        "Current solution: [ 0.8036 -0.8036  0.9822 -0.6845]\n",
        "Current solution: [ 0.8793 -0.8966  1.0298 -0.872 ]\n",
        "Current solution: [ 0.9529 -0.9529  1.0018 -0.9203]\n",
        "Current solution: [ 0.9708 -0.9742  1.0081 -0.9683]\n",
        "Current solution: [ 0.9884 -0.9884  1.0006 -0.9803]\n",
        "Current solution: [ 0.9928 -0.9936  1.002  -0.9922]\n",
        "Current solution: [ 0.9971 -0.9971  1.0002 -0.9951]\n",
        "Current solution: [ 0.9982 -0.9984  1.0005 -0.998 ]\n",
        "Current solution: [ 0.9993 -0.9993  1.     -0.9988]\n",
        "Current solution: [ 0.9996 -0.9996  1.0001 -0.9995]\n",
        "Current solution: [ 0.9998 -0.9998  1.     -0.9997]\n",
        "Current solution: [ 0.9999 -0.9999  1.     -0.9999]\n",
        "Solution:  [ 0.9999 -0.9999  1.     -0.9999]\n",
        "Iterations:  13\n",
        "Error:  [  1.00000000e-04  -1.00000000e-04   0.00000000e+00  -1.00000000e-04]\n"
       ]
      }
     ],
     "prompt_number": 3
    },
    {
     "cell_type": "heading",
     "level": 3,
     "metadata": {},
     "source": [
      "Gauss-Seidel Method"
     ]
    },
    {
     "cell_type": "markdown",
     "metadata": {},
     "source": [
      "<p>This next method is the Gauss-Seidel method, defined by this sum:</p>\n",
      "<p>$$x^{(k+1)}_i  = \\frac{1}{a_{ii}} \\left(b_i - \\sum_{j<i}a_{ij}x^{(k+1)}_j - \\sum_{j>i}a_{ij}x^{(k)}_j \\right),\\quad i,j=1,2,\\ldots,n.$$</p>\n",
      "<p>The Gauss-Seidel method is very similar to the Jacobi method, but differs in that you use values of $x$ calculated in the current iteration instead of waiting to use them on the next iteration.</p>"
     ]
    },
    {
     "cell_type": "code",
     "collapsed": false,
     "input": [
      "x = np.zeros_like(b)\n",
      "\n",
      "#Gauss-Seidel method\n",
      "\n",
      "for gauss_count in range(ITERATION_LIMIT):\n",
      "    print \"Current solution: \", x\n",
      "    x_new = np.zeros_like(x)\n",
      "    \n",
      "    for i in range(A.shape[0]):\n",
      "        rs1 = np.dot(A[i, :i], x_new[:i])\n",
      "        rs2 = np.dot(A[i, i+1:], x[i + 1:])\n",
      "        \n",
      "        x_new[i] = round((b[i] - rs1 - rs2) / A[i,i], 4)\n",
      "        \n",
      "    if np.allclose(x, x_new, rtol=1e-4):\n",
      "        break\n",
      "    \n",
      "    x = x_new\n",
      "    \n",
      "gauss_error = x_act - x\n",
      "\n",
      "print \"Solution: \", x\n",
      "print \"Iterations: \", gauss_count\n",
      "print \"Error: \", gauss_error"
     ],
     "language": "python",
     "metadata": {},
     "outputs": [
      {
       "output_type": "stream",
       "stream": "stdout",
       "text": [
        "Current solution:  [ 0.  0.  0.  0.]\n",
        "Current solution:  [ 0.4286 -0.6786  1.1072 -0.6845]\n",
        "Current solution:  [ 0.8793 -0.906   1.0487 -0.9203]\n",
        "Current solution:  [ 0.9708 -0.9764  1.0126 -0.9803]\n",
        "Current solution:  [ 0.9928 -0.9942  1.0031 -0.9952]\n",
        "Current solution:  [ 0.9982 -0.9986  1.0008 -0.9988]\n",
        "Current solution:  [ 0.9996 -0.9997  1.0002 -0.9997]\n",
        "Current solution:  [ 0.9999 -0.9999  1.0001 -0.9999]\n",
        "Solution:  [ 0.9999 -0.9999  1.0001 -0.9999]\n",
        "Iterations:  7\n",
        "Error:  [  1.00000000e-04  -1.00000000e-04  -1.00000000e-04  -1.00000000e-04]\n"
       ]
      }
     ],
     "prompt_number": 4
    },
    {
     "cell_type": "heading",
     "level": 3,
     "metadata": {},
     "source": [
      "Successive Over-relaxation"
     ]
    },
    {
     "cell_type": "markdown",
     "metadata": {},
     "source": [
      "<p>Our final method is called the Successive Over-relaxation method, defined by the sum:</p>\n",
      "<p>$$ x^{(k+1)}_i  = (1-\\omega)x^{(k)}_i + \\frac{\\omega}{a_{ii}} \\left(b_i - \\sum_{j<i} a_{ij}x^{(k+1)}_j - \\sum_{j>i} a_{ij}x^{(k)}_j \\right),\\quad i=1,2,\\ldots,n. $$</p>\n",
      "\n",
      "<p>Where $\\omega$ is a constant known as the <i>relaxation factor.</i></p>"
     ]
    },
    {
     "cell_type": "code",
     "collapsed": false,
     "input": [
      "x = np.zeros_like(b)\n",
      "W = 1.1\n",
      "#Successive Over Relaxation method\n",
      "\n",
      "for sor_count in range(ITERATION_LIMIT):\n",
      "    print \"Current solution: \", x\n",
      "    x_new = np.zeros_like(x)\n",
      "    \n",
      "    for i in range(A.shape[0]):\n",
      "        rs1 = np.dot(A[i, :i], x_new[:i])\n",
      "        rs2 = np.dot(A[i, i+1:], x[i + 1:])\n",
      "        \n",
      "        x_new[i] = round(((1. - W) * x[i]) + ( (W / A[i,i]) * (b[i] - rs1 - rs2)), 4)\n",
      "        \n",
      "    if np.allclose(x, x_new, rtol=1e-4):\n",
      "        break\n",
      "    \n",
      "    x = x_new\n",
      "    \n",
      "sor_error = x_act - x\n",
      "\n",
      "print \"Solution: \", x\n",
      "print \"Iterations: \", sor_count\n",
      "print \"Error: \", sor_error"
     ],
     "language": "python",
     "metadata": {},
     "outputs": [
      {
       "output_type": "stream",
       "stream": "stdout",
       "text": [
        "Current solution:  [ 0.  0.  0.  0.]\n",
        "Current solution:  [ 0.4714 -0.7523  1.2296 -0.7733]\n",
        "Current solution:  [ 0.9788 -0.9595  1.0336 -0.9939]\n",
        "Current solution:  [ 0.9991 -1.0022  0.9981 -1.0014]\n",
        "Current solution:  [ 1.0006 -1.0002  1.     -1.0002]\n",
        "Current solution:  [ 1.     -1.      0.9999 -1.    ]\n",
        "Solution:  [ 1.     -1.      0.9999 -1.    ]\n",
        "Iterations:  5\n",
        "Error:  [  0.00000000e+00   0.00000000e+00   1.00000000e-04   0.00000000e+00]\n"
       ]
      }
     ],
     "prompt_number": 5
    },
    {
     "cell_type": "heading",
     "level": 3,
     "metadata": {},
     "source": [
      "Analysis"
     ]
    },
    {
     "cell_type": "markdown",
     "metadata": {},
     "source": [
      "<p>Now that we have approximate solutions from each method, the number of iterations the method took, and an array of errors for each method, we can graph the Euclidean norm of the error array for each method and graph it against the number of iterations the method took.</p>"
     ]
    },
    {
     "cell_type": "code",
     "collapsed": false,
     "input": [
      "import matplotlib.pyplot as plt\n",
      "import numpy.linalg as la\n",
      "\n",
      "\n",
      "j = la.norm(jacobi_error)\n",
      "g = la.norm(gauss_error)\n",
      "s = la.norm(sor_error)\n",
      "\n",
      "plt.plot([0,jacobi_count], [0,j], '-r', linewidth=2, label = \"Jacobi\")\n",
      "plt.plot([0,gauss_count], [0,g], '-g', linewidth=2, label = \"Gauss-Seidel\")\n",
      "plt.plot([0,sor_count], [0,s], '-b', linewidth=2, label = \"SOR\")\n",
      "plt.ylabel('Error')\n",
      "plt.xlabel('Iterations')\n",
      "plt.legend(loc=\"lower right\")\n",
      "plt.show()\n",
      "\n",
      "print \"Numerical value of ||jacobi_error||:\", j\n",
      "print \"Numerical value of ||gauss_error||:\", g\n",
      "print \"Numerical value of ||sor_error||:\", s"
     ],
     "language": "python",
     "metadata": {},
     "outputs": [
      {
       "metadata": {},
       "output_type": "display_data",
       "png": "[encoded data removed]",
       "text": [
        "<matplotlib.figure.Figure at 0x7eaf190>"
       ]
      },
      {
       "output_type": "stream",
       "stream": "stdout",
       "text": [
        "Numerical value of ||jacobi_error||: 0.000173205080757\n",
        "Numerical value of ||gauss_error||: 0.0002\n",
        "Numerical value of ||sor_error||: 0.0001\n"
       ]
      }
     ],
     "prompt_number": 6
    },
    {
     "cell_type": "markdown",
     "metadata": {},
     "source": [
      "<p>Out of the three methods, SOR is preferable as it converges the fastest and produces the lowest error. The Gauss-Seidel method is an improvement upon the Jacobi method in that it converges to a value nearly twice as fast, but it produces a slightly higher error. </p>"
     ]
    }
   ],
   "metadata": {}
  }
 ]
}